{
 "cells": [
  {
   "cell_type": "markdown",
   "metadata": {
    "id": "xK7B3NnYaPR6"
   },
   "source": [
    "# The TextAttack ecosystem: search, transformations, and constraints"
   ]
  },
  {
   "cell_type": "markdown",
   "metadata": {
    "id": "9rY3w9b2aPSG"
   },
   "source": [
    "[![Open In Colab](https://colab.research.google.com/assets/colab-badge.svg)](https://colab.research.google.com/github/QData/TextAttack/blob/master/docs/2notebook/1_Introduction_and_Transformations.ipynb)\n",
    "\n",
    "[![View Source on GitHub](https://img.shields.io/badge/github-view%20source-black.svg)](https://github.com/QData/TextAttack/blob/master/docs/2notebook/1_Introduction_and_Transformations.ipynb)"
   ]
  },
  {
   "cell_type": "markdown",
   "metadata": {
    "id": "urhoEHXJf8YK"
   },
   "source": [
    "Please remember to run **pip3 install textattack[tensorflow]** in your notebook enviroment before the following codes:"
   ]
  },
  {
   "cell_type": "code",
   "execution_count": null,
   "metadata": {},
   "source": [
    "!pip3 install textattack[tensorflow]"
   ],
   "outputs": []
  },
  {
   "cell_type": "markdown",
   "metadata": {
    "id": "HTe13zUKaPSH"
   },
   "source": [
    "An attack in TextAttack consists of four parts.\n",
    "\n",
    "### Goal function\n",
    "\n",
    "The **goal function** determines if the attack is successful or not. One common goal function is **untargeted classification**, where the attack tries to perturb an input to change its classification. \n",
    "\n",
    "### Search method\n",
    "The **search method** explores the space of potential transformations and tries to locate a successful perturbation. Greedy search, beam search, and brute-force search are all examples of search methods.\n",
    "\n",
    "### Transformation\n",
    "A **transformation** takes a text input and transforms it, for example replacing words or phrases with similar ones, while trying not to change the meaning. Paraphrase and synonym substitution are two broad classes of transformations.\n",
    "\n",
    "### Constraints\n",
    "Finally, **constraints** determine whether or not a given transformation is valid. Transformations don't perfectly preserve syntax or semantics, so additional constraints can increase the probability that these qualities are preserved from the source to adversarial example. There are many types of constraints: overlap constraints that measure edit distance, syntactical  constraints check part-of-speech and grammar errors, and semantic constraints like language models and sentence encoders."
   ]
  },
  {
   "cell_type": "markdown",
   "metadata": {
    "id": "tiXXNJO4aPSI"
   },
   "source": [
    "### A custom transformation\n",
    "\n",
    "This lesson explains how to create a custom transformation. In TextAttack, many transformations involve *word swaps*: they take a word and try and find suitable substitutes. Some attacks focus on replacing characters with neighboring characters to create \"typos\" (these don't intend to preserve the grammaticality of inputs). Other attacks rely on semantics: they take a word and try to replace it with semantic equivalents.\n",
    "\n",
    "\n",
    "### Banana word swap \n",
    "\n",
    "As an introduction to writing transformations for TextAttack, we're going to try a very simple transformation: one that replaces any given word with the word 'banana'. In TextAttack, there's an abstract `WordSwap` class that handles the heavy lifting of breaking sentences into words and avoiding replacement of stopwords. We can extend `WordSwap` and implement a single method, `_get_replacement_words`, to indicate to replace each word with 'banana'. 🍌"
   ]
  },
  {
   "cell_type": "code",
   "execution_count": 1,
   "metadata": {
    "id": "8r7zviXkaPSJ"
   },
   "source": [
    "from textattack.transformations import WordSwap\n",
    "\n",
    "\n",
    "class BananaWordSwap(WordSwap):\n",
    "    \"\"\"Transforms an input by replacing any word with 'banana'.\"\"\"\n",
    "\n",
    "    # We don't need a constructor, since our class doesn't require any parameters.\n",
    "\n",
    "    def _get_replacement_words(self, word):\n",
    "        \"\"\"Returns 'banana', no matter what 'word' was originally.\n",
    "\n",
    "        Returns a list with one item, since `_get_replacement_words` is intended to\n",
    "            return a list of candidate replacement words.\n",
    "        \"\"\"\n",
    "        return [\"banana\"]"
   ],
   "outputs": []
  },
  {
   "cell_type": "markdown",
   "metadata": {
    "id": "RHGvZxenaPSJ"
   },
   "source": [
    "### Using our transformation\n",
    "\n",
    "Now we have the transformation chosen, but we're missing a few other things. To complete the attack, we need to choose the **search method** and **constraints**. And to use the attack, we need a **goal function**, a **model** and a **dataset**. (The goal function indicates the task our model performs – in this case, classification – and the type of attack – in this case, we'll perform an untargeted attack.)\n",
    "\n",
    "### Creating the goal function, model, and dataset\n",
    "We are performing an untargeted attack on a classification model, so we'll use the `UntargetedClassification` class. For the model, let's use BERT trained for news classification on the AG News dataset. We've pretrained several models and uploaded them to the [HuggingFace Model Hub](https://huggingface.co/textattack). TextAttack integrates with any model from HuggingFace's Model Hub and any dataset from HuggingFace's `datasets`!"
   ]
  },
  {
   "cell_type": "code",
   "execution_count": 2,
   "metadata": {
    "colab": {
     "base_uri": "https://localhost:8080/"
    },
    "id": "wREwoDkMaPSK",
    "outputId": "4a8f74c7-c51a-4216-8435-be52d2165d4c"
   },
   "source": [
    "# Import the model\n",
    "import transformers\n",
    "from textattack.models.wrappers import HuggingFaceModelWrapper\n",
    "\n",
    "model = transformers.AutoModelForSequenceClassification.from_pretrained(\n",
    "    \"textattack/bert-base-uncased-ag-news\"\n",
    ")\n",
    "tokenizer = transformers.AutoTokenizer.from_pretrained(\n",
    "    \"textattack/bert-base-uncased-ag-news\"\n",
    ")\n",
    "\n",
    "model_wrapper = HuggingFaceModelWrapper(model, tokenizer)\n",
    "\n",
    "# Create the goal function using the model\n",
    "from textattack.goal_functions import UntargetedClassification\n",
    "\n",
    "goal_function = UntargetedClassification(model_wrapper)\n",
    "\n",
    "# Import the dataset\n",
    "from textattack.datasets import HuggingFaceDataset\n",
    "\n",
    "dataset = HuggingFaceDataset(\"ag_news\", None, \"test\")"
   ],
   "outputs": []
  },
  {
   "cell_type": "markdown",
   "metadata": {
    "id": "sfGMvqcTaPSN"
   },
   "source": [
    "### Creating the attack\n",
    "Let's keep it simple: let's use a greedy search method, and let's not use any constraints for now. "
   ]
  },
  {
   "cell_type": "code",
   "execution_count": 3,
   "metadata": {
    "id": "nSAHSoI_aPSO"
   },
   "source": [
    "from textattack.search_methods import GreedySearch\n",
    "from textattack.constraints.pre_transformation import (\n",
    "    RepeatModification,\n",
    "    StopwordModification,\n",
    ")\n",
    "from textattack import Attack\n",
    "\n",
    "# We're going to use our Banana word swap class as the attack transformation.\n",
    "transformation = BananaWordSwap()\n",
    "# We'll constrain modification of already modified indices and stopwords\n",
    "constraints = [RepeatModification(), StopwordModification()]\n",
    "# We'll use the Greedy search method\n",
    "search_method = GreedySearch()\n",
    "# Now, let's make the attack from the 4 components:\n",
    "attack = Attack(goal_function, constraints, transformation, search_method)"
   ],
   "outputs": []
  },
  {
   "cell_type": "markdown",
   "metadata": {
    "id": "PqrHaZOaaPSO"
   },
   "source": [
    "Let's print our attack to see all the parameters:"
   ]
  },
  {
   "cell_type": "code",
   "execution_count": 4,
   "metadata": {
    "colab": {
     "base_uri": "https://localhost:8080/"
    },
    "id": "d2qYOr0maPSP",
    "outputId": "7266dc40-fc6c-4c78-90a8-8150e8fb5d8e"
   },
   "source": [
    "print(attack)"
   ],
   "outputs": []
  },
  {
   "cell_type": "code",
   "execution_count": 5,
   "metadata": {
    "colab": {
     "base_uri": "https://localhost:8080/"
    },
    "id": "m97uyJxDh1wq",
    "outputId": "87ca8836-9781-4c5d-85f2-7ffbf4a7ef80"
   },
   "source": [
    "print(dataset[0])"
   ],
   "outputs": []
  },
  {
   "cell_type": "markdown",
   "metadata": {
    "id": "GYKoVFuXaPSP"
   },
   "source": [
    "### Using the attack\n",
    "\n",
    "Let's use our attack to successfully attack 10 samples."
   ]
  },
  {
   "cell_type": "code",
   "execution_count": 6,
   "metadata": {
    "colab": {
     "base_uri": "https://localhost:8080/"
    },
    "id": "LyokhnFtaPSQ",
    "outputId": "d8a43c4f-1551-40c9-d031-a42b429ed33d"
   },
   "source": [
    "from tqdm import tqdm  # tqdm provides us a nice progress bar.\n",
    "from textattack.loggers import CSVLogger  # tracks a dataframe for us.\n",
    "from textattack.attack_results import SuccessfulAttackResult\n",
    "from textattack import Attacker\n",
    "from textattack import AttackArgs\n",
    "from textattack.datasets import Dataset\n",
    "\n",
    "attack_args = AttackArgs(num_examples=10)\n",
    "\n",
    "attacker = Attacker(attack, dataset, attack_args)\n",
    "\n",
    "attack_results = attacker.attack_dataset()\n",
    "\n",
    "# The following legacy tutorial code shows how the Attack API works in detail.\n",
    "\n",
    "# logger = CSVLogger(color_method='html')\n",
    "\n",
    "# num_successes = 0\n",
    "# i = 0\n",
    "# while num_successes < 10:\n",
    "# result = next(results_iterable)\n",
    "#    example, ground_truth_output = dataset[i]\n",
    "#    i += 1\n",
    "#    result = attack.attack(example, ground_truth_output)\n",
    "#    if isinstance(result, SuccessfulAttackResult):\n",
    "#        logger.log_attack_result(result)\n",
    "#        num_successes += 1\n",
    "#       print(f'{num_successes} of 10 successes complete.')"
   ],
   "outputs": []
  },
  {
   "cell_type": "markdown",
   "metadata": {
    "id": "oRRkNXYmaPSQ"
   },
   "source": [
    "### Visualizing attack results\n",
    "\n",
    "We are logging `AttackResult` objects using a `CSVLogger`. This logger stores all attack results in a dataframe, which we can easily access and display. Since we set `color_method` to `'html'`, the attack results will display their differences, in color, in HTML. Using `IPython` utilities and `pandas`"
   ]
  },
  {
   "cell_type": "code",
   "execution_count": 7,
   "metadata": {
    "colab": {
     "base_uri": "https://localhost:8080/",
     "height": 1000
    },
    "id": "JafXMELLaPSR",
    "outputId": "48178d1c-5ba9-45f9-b1be-dc6533462c95"
   },
   "source": [
    "import pandas as pd\n",
    "\n",
    "pd.options.display.max_colwidth = (\n",
    "    480  # increase colum width so we can actually read the examples\n",
    ")\n",
    "\n",
    "logger = CSVLogger(color_method=\"html\")\n",
    "\n",
    "for result in attack_results:\n",
    "    if isinstance(result, SuccessfulAttackResult):\n",
    "        logger.log_attack_result(result)\n",
    "\n",
    "from IPython.core.display import display, HTML\n",
    "\n",
    "results = pd.DataFrame.from_records(logger.row_list)\n",
    "display(HTML(results[[\"original_text\", \"perturbed_text\"]].to_html(escape=False)))"
   ],
   "outputs": []
  },
  {
   "cell_type": "markdown",
   "metadata": {
    "id": "yMMF1Vx1aPSR"
   },
   "source": [
    "### Conclusion\n",
    "We can examine these examples for a good idea of how many words had to be changed to \"banana\" to change the prediction score from the correct class to another class. The examples without perturbed words were originally misclassified, so they were skipped by the attack. Looks like some examples needed only a couple \"banana\"s, while others needed up to 17 \"banana\" substitutions to change the class score. Wow! 🍌"
   ]
  },
  {
   "cell_type": "markdown",
   "metadata": {
    "id": "y4MTwyTpaPSR"
   },
   "source": [
    "### Bonus: Attacking Custom Samples\n",
    "\n",
    "We can also attack custom data samples, like these ones I just made up!"
   ]
  },
  {
   "cell_type": "code",
   "execution_count": 8,
   "metadata": {
    "colab": {
     "base_uri": "https://localhost:8080/",
     "height": 1000
    },
    "id": "L2Po7C8EaPSS",
    "outputId": "d634f038-79e2-4bef-a11e-686a880ce8a7"
   },
   "source": [
    "# For AG News, labels are 0: World, 1: Sports, 2: Business, 3: Sci/Tech\n",
    "\n",
    "custom_dataset = [\n",
    "    (\"Malaria deaths in Africa fall by 5% from last year\", 0),\n",
    "    (\"Washington Nationals defeat the Houston Astros to win the World Series\", 1),\n",
    "    (\"Exxon Mobil hires a new CEO\", 2),\n",
    "    (\"Microsoft invests $1 billion in OpenAI\", 3),\n",
    "]\n",
    "\n",
    "attack_args = AttackArgs(num_examples=4)\n",
    "\n",
    "dataset = Dataset(custom_dataset)\n",
    "\n",
    "attacker = Attacker(attack, dataset, attack_args)\n",
    "\n",
    "results_iterable = attacker.attack_dataset()\n",
    "\n",
    "logger = CSVLogger(color_method=\"html\")\n",
    "\n",
    "for result in results_iterable:\n",
    "    logger.log_attack_result(result)\n",
    "\n",
    "from IPython.core.display import display, HTML\n",
    "\n",
    "display(HTML(logger.df[[\"original_text\", \"perturbed_text\"]].to_html(escape=False)))"
   ],
   "outputs": []
  }
 ],
 "metadata": {
  "accelerator": "GPU",
  "colab": {
   "collapsed_sections": [],
   "name": "1_Introduction_and_Transformations.ipynb",
   "provenance": [],
   "toc_visible": true
  },
  "kernelspec": {
   "display_name": "Python 3",
   "language": "python",
   "name": "python3"
  },
  "language_info": {
   "codemirror_mode": {
    "name": "ipython",
    "version": 3
   },
   "file_extension": ".py",
   "mimetype": "text/x-python",
   "name": "python",
   "nbconvert_exporter": "python",
   "pygments_lexer": "ipython3",
   "version": "3.7.11"
  }
 },
 "nbformat": 4,
 "nbformat_minor": 4
}
