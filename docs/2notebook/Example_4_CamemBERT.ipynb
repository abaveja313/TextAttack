{
 "cells": [
  {
   "cell_type": "markdown",
   "metadata": {
    "id": "koVcufVBD9uv"
   },
   "source": [
    "Please remember to run  **pip3 install textattack[tensorflow]**  in your notebook enviroment before the following codes:\n",
    "\n",
    "# Multi-language attacks\n",
    "\n",
    "TextAttack's four-component framework makes it trivial to run attacks in other languages. In this tutorial, we:\n",
    "\n",
    "- Create a model wrapper around Transformers [pipelines](https://huggingface.co/transformers/main_classes/pipelines.html) \n",
    "- Initialize a pre-trained [CamemBERT](https://camembert-model.fr/) model for sentiment classification\n",
    "- Load the AlloCiné movie review sentiment classification dataset (from [`datasets`](https://github.com/huggingface/datasets/))\n",
    "- Load the `pwws` recipe, but use French synonyms from multilingual WordNet (instead of English synonyms)\n",
    "- Run an adversarial attack on a French language model\n",
    "\n",
    "Voilà!"
   ]
  },
  {
   "cell_type": "markdown",
   "metadata": {
    "id": "Abd2C3zJD9u4"
   },
   "source": [
    "[![Open In Colab](https://colab.research.google.com/assets/colab-badge.svg)](https://colab.research.google.com/github/QData/TextAttack/blob/master/docs/2notebook/Example_4_CamemBERT.ipynb)\n",
    "\n",
    "[![View Source on GitHub](https://img.shields.io/badge/github-view%20source-black.svg)](https://github.com/QData/TextAttack/blob/master/docs/2notebook/Example_4_CamemBERT.ipynb)"
   ]
  },
  {
   "cell_type": "code",
   "execution_count": 1,
   "metadata": {
    "id": "-fnSUl8ND9u5"
   },
   "source": [
    "from textattack.attack_recipes import PWWSRen2019\n",
    "from textattack.datasets import HuggingFaceDataset\n",
    "from textattack.models.wrappers import ModelWrapper\n",
    "from transformers import AutoTokenizer, TFAutoModelForSequenceClassification, pipeline\n",
    "from textattack import Attacker\n",
    "\n",
    "import numpy as np\n",
    "\n",
    "# Quiet TensorFlow.\n",
    "import os\n",
    "\n",
    "if \"TF_CPP_MIN_LOG_LEVEL\" not in os.environ:\n",
    "    os.environ[\"TF_CPP_MIN_LOG_LEVEL\"] = \"3\"\n",
    "\n",
    "\n",
    "class HuggingFaceSentimentAnalysisPipelineWrapper(ModelWrapper):\n",
    "    \"\"\"Transformers sentiment analysis pipeline returns a list of responses\n",
    "    like\n",
    "\n",
    "        [{'label': 'POSITIVE', 'score': 0.7817379832267761}]\n",
    "\n",
    "    We need to convert that to a format TextAttack understands, like\n",
    "\n",
    "        [[0.218262017, 0.7817379832267761]\n",
    "    \"\"\"\n",
    "\n",
    "    def __init__(self, model):\n",
    "        self.model = model  # pipeline = pipeline\n",
    "\n",
    "    def __call__(self, text_inputs):\n",
    "        raw_outputs = self.model(text_inputs)\n",
    "        outputs = []\n",
    "        for output in raw_outputs:\n",
    "            score = output[\"score\"]\n",
    "            if output[\"label\"] == \"POSITIVE\":\n",
    "                outputs.append([1 - score, score])\n",
    "            else:\n",
    "                outputs.append([score, 1 - score])\n",
    "        return np.array(outputs)"
   ],
   "outputs": []
  },
  {
   "cell_type": "code",
   "execution_count": 2,
   "metadata": {
    "colab": {
     "base_uri": "https://localhost:8080/"
    },
    "id": "i2WPtwO9D9u6",
    "outputId": "2f5e8fab-1047-417d-c90c-b9238b2886a4",
    "scrolled": true,
    "tags": []
   },
   "source": [
    "# Create the model: a French sentiment analysis model.\n",
    "# see https://github.com/TheophileBlard/french-sentiment-analysis-with-bert\n",
    "model = TFAutoModelForSequenceClassification.from_pretrained(\"tblard/tf-allocine\")\n",
    "tokenizer = AutoTokenizer.from_pretrained(\"tblard/tf-allocine\")\n",
    "pipeline = pipeline(\"sentiment-analysis\", model=model, tokenizer=tokenizer)\n",
    "\n",
    "model_wrapper = HuggingFaceSentimentAnalysisPipelineWrapper(pipeline)\n",
    "\n",
    "# Create the recipe: PWWS uses a WordNet transformation.\n",
    "recipe = PWWSRen2019.build(model_wrapper)\n",
    "#\n",
    "# WordNet defaults to english. Set the default language to French ('fra')\n",
    "#\n",
    "# See \"Building a free French wordnet from multilingual resources\",\n",
    "# E. L. R. A. (ELRA) (ed.),\n",
    "# Proceedings of the Sixth International Language Resources and Evaluation (LREC’08).\n",
    "recipe.transformation.language = \"fra\"\n",
    "\n",
    "dataset = HuggingFaceDataset(\"allocine\", split=\"test\")\n",
    "\n",
    "attacker = Attacker(recipe, dataset)\n",
    "attacker.attack_dataset()"
   ],
   "outputs": []
  }
 ],
 "metadata": {
  "accelerator": "GPU",
  "colab": {
   "collapsed_sections": [],
   "name": "Example_4_CamemBERT.ipynb",
   "provenance": []
  },
  "kernelspec": {
   "display_name": "Python 3",
   "language": "python",
   "name": "python3"
  },
  "language_info": {
   "codemirror_mode": {
    "name": "ipython",
    "version": 3
   },
   "file_extension": ".py",
   "mimetype": "text/x-python",
   "name": "python",
   "nbconvert_exporter": "python",
   "pygments_lexer": "ipython3",
   "version": "3.8.8"
  }
 },
 "nbformat": 4,
 "nbformat_minor": 4
}
